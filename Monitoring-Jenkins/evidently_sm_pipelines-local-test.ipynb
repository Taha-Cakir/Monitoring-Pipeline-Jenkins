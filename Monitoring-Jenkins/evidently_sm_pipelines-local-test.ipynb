{
 "cells": [
  {
   "cell_type": "code",
   "execution_count": 1,
   "id": "ede33c83-8ee1-4fdf-809e-b673bc26036f",
   "metadata": {
    "tags": []
   },
   "outputs": [],
   "source": [
    "import os\n",
    "import json\n",
    "import boto3\n",
    "import sagemaker\n",
    "import sagemaker.session\n",
    "\n",
    "from sagemaker import utils\n",
    "from sagemaker.estimator import Estimator\n",
    "from sagemaker.inputs import TrainingInput, CreateModelInput, TransformInput\n",
    "from sagemaker.model import Model\n",
    "from sagemaker.transformer import Transformer\n",
    "\n",
    "from sagemaker.model_metrics import MetricsSource, ModelMetrics, FileSource\n",
    "from sagemaker.drift_check_baselines import DriftCheckBaselines\n",
    "from sagemaker.processing import (\n",
    "    ProcessingInput,\n",
    "    ProcessingOutput,\n",
    "    ScriptProcessor,\n",
    ")\n",
    "from sagemaker.sklearn.processing import SKLearnProcessor\n",
    "from sagemaker.workflow.conditions import ConditionLessThanOrEqualTo\n",
    "from sagemaker.workflow.condition_step import ConditionStep\n",
    "from sagemaker.workflow.functions import JsonGet\n",
    "\n",
    "from sagemaker.workflow.parameters import (\n",
    "    ParameterBoolean,\n",
    "    ParameterInteger,\n",
    "    ParameterString,\n",
    ")\n",
    "from sagemaker.workflow.pipeline import Pipeline\n",
    "from sagemaker.workflow.properties import PropertyFile\n",
    "from sagemaker.workflow.steps import (\n",
    "    ProcessingStep,\n",
    "    TrainingStep,\n",
    "    CreateModelStep,\n",
    "    TransformStep,\n",
    ")\n",
    "from sagemaker.workflow.model_step import ModelStep\n",
    "from sagemaker.workflow.pipeline_context import PipelineSession\n",
    "\n",
    "from sagemaker.workflow.execution_variables import ExecutionVariables\n",
    "from sagemaker.workflow.functions import Join\n",
    "from sagemaker.model_monitor import DatasetFormat, model_monitoring\n",
    "from sagemaker.clarify import BiasConfig, DataConfig, ModelConfig"
   ]
  },
  {
   "cell_type": "code",
   "execution_count": 2,
   "id": "2023c2bd-25d6-4fc8-bfd2-dd8ed0397549",
   "metadata": {
    "tags": []
   },
   "outputs": [],
   "source": [
    "region = sagemaker.Session().boto_region_name\n",
    "sm_client = boto3.client(\"sagemaker\")\n",
    "boto_session = boto3.Session(region_name=region)\n",
    "sagemaker_session = sagemaker.session.Session(boto_session=boto_session, sagemaker_client=sm_client)\n",
    "pipeline_session = PipelineSession()\n",
    "prefix = \"RegressionPredict\"\n",
    "\n",
    "role = sagemaker.get_execution_role()"
   ]
  },
  {
   "cell_type": "code",
   "execution_count": null,
   "id": "1be08b57-17c0-4859-8a15-58626eef0bff",
   "metadata": {
    "tags": []
   },
   "outputs": [],
   "source": [
    "\n",
    "baseline = ParameterString(\n",
    "    name=\"baseline\",\n",
    "    default_value=f\"s3://sm-dashboard-t/sagemaker-modelmonitor/train_headers/train_data_with_headers.csv\",\n",
    ")\n",
    "test = ParameterString(\n",
    "    name=\"test\",\n",
    "    default_value=f\"s3://sm-dashboard-t/sagemaker-modelmonitor/test_data/test_data.csv\",\n",
    ")\n",
    "\n",
    "image = '018079024734.dkr.ecr.us-east-1.amazonaws.com/evidently-image:latest'\n",
    "script_processor = ScriptProcessor(\n",
    "    image_uri='ubuntu-ev', # local image\n",
    "    command=[\"python3\"],\n",
    "    instance_type=\"local\",\n",
    "    instance_count=1,\n",
    "\n",
    "    role=role,\n",
    ")\n",
    "\n",
    "train_path = f\"s3://sm-dashboard-t/sagemaker-modelmonitor/train_headers/train_data_with_headers.csv\"\n",
    "test_path = f\"s3://sm-dashboard-t/sagemaker-modelmonitor/test_data/test_data.csv\"\n",
    "\n",
    "\n",
    "script_processor.run(\n",
    "    code=\"evidently.py\",\n",
    "    arguments=[\"--baseline\", train_path, \"--test\",test_path],\n",
    ")\n"
   ]
  }
 ],
 "metadata": {
  "kernelspec": {
   "display_name": "conda_tensorflow2_p310",
   "language": "python",
   "name": "conda_tensorflow2_p310"
  },
  "language_info": {
   "codemirror_mode": {
    "name": "ipython",
    "version": 3
   },
   "file_extension": ".py",
   "mimetype": "text/x-python",
   "name": "python",
   "nbconvert_exporter": "python",
   "pygments_lexer": "ipython3",
   "version": "3.10.8"
  }
 },
 "nbformat": 4,
 "nbformat_minor": 5
}
